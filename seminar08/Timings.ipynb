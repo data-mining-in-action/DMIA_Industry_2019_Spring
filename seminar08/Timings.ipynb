{
 "cells": [
  {
   "cell_type": "code",
   "execution_count": null,
   "metadata": {
    "ExecuteTime": {
     "end_time": "2019-04-12T22:56:04.719681Z",
     "start_time": "2019-04-12T22:56:04.584305Z"
    }
   },
   "outputs": [],
   "source": [
    "import ml_pure"
   ]
  },
  {
   "cell_type": "code",
   "execution_count": null,
   "metadata": {
    "ExecuteTime": {
     "end_time": "2019-04-12T22:56:12.492705Z",
     "start_time": "2019-04-12T22:56:06.364075Z"
    }
   },
   "outputs": [],
   "source": [
    "%timeit ml_pure.func1()"
   ]
  },
  {
   "cell_type": "code",
   "execution_count": null,
   "metadata": {
    "ExecuteTime": {
     "end_time": "2019-04-12T22:56:36.452088Z",
     "start_time": "2019-04-12T22:56:27.540085Z"
    }
   },
   "outputs": [],
   "source": [
    "%timeit ml_pure.func2()"
   ]
  },
  {
   "cell_type": "code",
   "execution_count": null,
   "metadata": {
    "ExecuteTime": {
     "end_time": "2019-04-12T22:56:42.978477Z",
     "start_time": "2019-04-12T22:56:36.454173Z"
    }
   },
   "outputs": [],
   "source": [
    "%timeit ml_pure.func3()"
   ]
  },
  {
   "cell_type": "code",
   "execution_count": null,
   "metadata": {
    "ExecuteTime": {
     "end_time": "2019-04-12T22:56:48.579472Z",
     "start_time": "2019-04-12T22:56:42.980186Z"
    }
   },
   "outputs": [],
   "source": [
    "%timeit ml_pure.func4()"
   ]
  },
  {
   "cell_type": "code",
   "execution_count": null,
   "metadata": {
    "ExecuteTime": {
     "end_time": "2019-04-12T22:56:53.725911Z",
     "start_time": "2019-04-12T22:56:48.581061Z"
    }
   },
   "outputs": [],
   "source": [
    "%timeit ml_pure.func5()"
   ]
  },
  {
   "cell_type": "code",
   "execution_count": null,
   "metadata": {
    "ExecuteTime": {
     "end_time": "2019-04-12T22:57:03.302009Z",
     "start_time": "2019-04-12T22:57:03.296997Z"
    }
   },
   "outputs": [],
   "source": [
    "import ml_cython"
   ]
  },
  {
   "cell_type": "code",
   "execution_count": null,
   "metadata": {
    "ExecuteTime": {
     "end_time": "2019-04-12T22:57:20.745976Z",
     "start_time": "2019-04-12T22:57:14.538344Z"
    }
   },
   "outputs": [],
   "source": [
    "%timeit ml_cython.func1()"
   ]
  },
  {
   "cell_type": "code",
   "execution_count": null,
   "metadata": {
    "ExecuteTime": {
     "end_time": "2019-04-12T22:57:25.276597Z",
     "start_time": "2019-04-12T22:57:20.747746Z"
    }
   },
   "outputs": [],
   "source": [
    "%timeit ml_cython.func2()"
   ]
  },
  {
   "cell_type": "code",
   "execution_count": null,
   "metadata": {
    "ExecuteTime": {
     "end_time": "2019-04-12T22:57:25.623634Z",
     "start_time": "2019-04-12T22:57:25.278259Z"
    }
   },
   "outputs": [],
   "source": [
    "import ml_numba"
   ]
  },
  {
   "cell_type": "code",
   "execution_count": null,
   "metadata": {
    "ExecuteTime": {
     "end_time": "2019-04-12T22:57:35.372446Z",
     "start_time": "2019-04-12T22:57:31.592371Z"
    }
   },
   "outputs": [],
   "source": [
    "%timeit ml_numba.func1()"
   ]
  },
  {
   "cell_type": "code",
   "execution_count": null,
   "metadata": {
    "ExecuteTime": {
     "end_time": "2019-04-12T22:57:37.688767Z",
     "start_time": "2019-04-12T22:57:35.374466Z"
    }
   },
   "outputs": [],
   "source": [
    "%timeit ml_numba.func2()"
   ]
  },
  {
   "cell_type": "code",
   "execution_count": null,
   "metadata": {
    "ExecuteTime": {
     "end_time": "2019-04-12T22:57:37.697699Z",
     "start_time": "2019-04-12T22:57:37.690356Z"
    }
   },
   "outputs": [],
   "source": [
    "import ml_cxx"
   ]
  },
  {
   "cell_type": "code",
   "execution_count": null,
   "metadata": {
    "ExecuteTime": {
     "end_time": "2019-04-12T22:58:10.601305Z",
     "start_time": "2019-04-12T22:58:07.018059Z"
    }
   },
   "outputs": [],
   "source": [
    "%timeit ml_cxx.func(1)"
   ]
  },
  {
   "cell_type": "code",
   "execution_count": null,
   "metadata": {
    "ExecuteTime": {
     "end_time": "2019-04-12T22:58:12.389242Z",
     "start_time": "2019-04-12T22:58:10.602783Z"
    }
   },
   "outputs": [],
   "source": [
    "%timeit ml_cxx.func(2)"
   ]
  },
  {
   "cell_type": "code",
   "execution_count": null,
   "metadata": {
    "ExecuteTime": {
     "end_time": "2019-04-12T22:58:21.360124Z",
     "start_time": "2019-04-12T22:58:12.390880Z"
    }
   },
   "outputs": [],
   "source": [
    "%timeit ml_cxx.func(4)"
   ]
  },
  {
   "cell_type": "code",
   "execution_count": null,
   "metadata": {
    "ExecuteTime": {
     "end_time": "2019-04-12T22:58:27.482496Z",
     "start_time": "2019-04-12T22:58:21.361859Z"
    }
   },
   "outputs": [],
   "source": [
    "%timeit ml_cxx.func(8)"
   ]
  },
  {
   "cell_type": "code",
   "execution_count": null,
   "metadata": {
    "ExecuteTime": {
     "end_time": "2019-04-12T22:58:32.987314Z",
     "start_time": "2019-04-12T22:58:27.484741Z"
    }
   },
   "outputs": [],
   "source": [
    "%timeit ml_cxx.func(16)"
   ]
  },
  {
   "cell_type": "code",
   "execution_count": null,
   "metadata": {},
   "outputs": [],
   "source": []
  }
 ],
 "metadata": {
  "kernelspec": {
   "display_name": "dmia8",
   "language": "python",
   "name": "dmia8"
  },
  "language_info": {
   "codemirror_mode": {
    "name": "ipython",
    "version": 3
   },
   "file_extension": ".py",
   "mimetype": "text/x-python",
   "name": "python",
   "nbconvert_exporter": "python",
   "pygments_lexer": "ipython3",
   "version": "3.6.6"
  }
 },
 "nbformat": 4,
 "nbformat_minor": 2
}
